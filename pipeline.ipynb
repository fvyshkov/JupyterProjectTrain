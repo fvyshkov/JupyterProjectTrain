{
 "cells": [
  {
   "cell_type": "markdown",
   "id": "e28d1ea8",
   "metadata": {},
   "source": [
    "## DuckDB setup and SQL templates\n",
    "\n",
    "This section sets up DuckDB to query `events.jsonl` alongside CSV dimensions and provides Q1/Q2 query templates.\n"
   ]
  },
  {
   "cell_type": "code",
   "execution_count": null,
   "id": "6ef6687e",
   "metadata": {},
   "outputs": [],
   "source": [
    "import duckdb as ddb\n",
    "import pandas as pd\n",
    "from pathlib import Path\n",
    "\n",
    "# Configure paths\n",
    "DATA_DIR = Path('data')\n",
    "EVENTS = DATA_DIR / 'events.jsonl'\n",
    "USERS = DATA_DIR / 'users.csv'\n",
    "VIDEOS = DATA_DIR / 'videos.csv'\n",
    "DEVICES = DATA_DIR / 'devices.csv'\n",
    "\n",
    "con = ddb.connect(database=':memory:')\n",
    "\n",
    "# Load CSVs and JSONL into DuckDB tables\n",
    "con.execute(f\"\"\"\n",
    "    CREATE OR REPLACE TABLE users AS\n",
    "    SELECT * FROM read_csv_auto('{USERS.as_posix()}');\n",
    "\"\"\")\n",
    "\n",
    "con.execute(f\"\"\"\n",
    "    CREATE OR REPLACE TABLE videos AS\n",
    "    SELECT * FROM read_csv_auto('{VIDEOS.as_posix()}');\n",
    "\"\"\")\n",
    "\n",
    "con.execute(f\"\"\"\n",
    "    CREATE OR REPLACE TABLE devices AS\n",
    "    SELECT * FROM read_csv_auto('{DEVICES.as_posix()}');\n",
    "\"\"\")\n",
    "\n",
    "# Read JSONL; adjust schema as needed\n",
    "con.execute(f\"\"\"\n",
    "    CREATE OR REPLACE TABLE events AS\n",
    "    SELECT * FROM read_json_auto('{EVENTS.as_posix()}', format='newline_delimited');\n",
    "\"\"\")\n",
    "\n",
    "# Quick peek\n",
    "print(con.execute(\"SELECT COUNT(*) AS events_cnt FROM events\").df())\n",
    "print(con.execute(\"SELECT COUNT(*) AS users_cnt FROM users\").df())\n"
   ]
  },
  {
   "cell_type": "code",
   "execution_count": null,
   "metadata": {
    "vscode": {
     "languageId": "sql"
    }
   },
   "outputs": [],
   "source": [
    "-- Q1 template: replace with your analytical question\n",
    "-- Example: Daily plays per video\n",
    "SELECT\n",
    "  date_trunc('day', e.event_time)::DATE AS dt,\n",
    "  e.video_id,\n",
    "  COUNT_IF(e.event_type = 'play') AS plays\n",
    "FROM events e\n",
    "GROUP BY 1, 2\n",
    "ORDER BY 1, 3 DESC\n",
    "LIMIT 100;\n"
   ]
  },
  {
   "cell_type": "code",
   "execution_count": null,
   "metadata": {
    "vscode": {
     "languageId": "sql"
    }
   },
   "outputs": [],
   "source": [
    "-- Q2 template: replace with your second analytical question\n",
    "-- Example: Unique viewers by country per day\n",
    "SELECT\n",
    "  date_trunc('day', e.event_time)::DATE AS dt,\n",
    "  u.country,\n",
    "  COUNT(DISTINCT e.user_id) AS unique_viewers\n",
    "FROM events e\n",
    "LEFT JOIN users u ON e.user_id = u.user_id\n",
    "GROUP BY 1, 2\n",
    "ORDER BY 1, 3 DESC\n",
    "LIMIT 100;\n"
   ]
  },
  {
   "cell_type": "code",
   "execution_count": 85,
   "id": "initial_id",
   "metadata": {
    "ExecuteTime": {
     "end_time": "2025-09-23T11:31:10.777168Z",
     "start_time": "2025-09-23T11:31:10.774076Z"
    },
    "collapsed": true
   },
   "outputs": [],
   "source": [
    "import duckdb"
   ]
  },
  {
   "cell_type": "code",
   "execution_count": 86,
   "id": "66695a811687002d",
   "metadata": {
    "ExecuteTime": {
     "end_time": "2025-09-23T11:31:11.635870Z",
     "start_time": "2025-09-23T11:31:11.501238Z"
    }
   },
   "outputs": [
    {
     "data": {
      "text/plain": [
       "<_duckdb.DuckDBPyConnection at 0x3113db3b0>"
      ]
     },
     "execution_count": 86,
     "metadata": {},
     "output_type": "execute_result"
    }
   ],
   "source": [
    "con = duckdb.connect()\n",
    "users_df = con.sql(\"\"\"select * from read_csv_auto('data/users.csv')\"\"\").to_df()\n",
    "videos_df = con.sql(\"\"\"select * from read_csv_auto('data/videos.csv')\"\"\").to_df()\n",
    "devices_df = con.sql(\"\"\"select * from read_csv_auto('data/devices.csv')\"\"\").to_df()\n",
    "events_df = con.sql(\"\"\"select * from read_json_auto('data/events.jsonl')\"\"\").to_df()\n",
    "con.register('users', users_df)\n",
    "con.register('videos', videos_df)\n",
    "con.register('devices', devices_df)\n",
    "con.register('events', events_df)"
   ]
  },
  {
   "cell_type": "code",
   "execution_count": 87,
   "id": "8d1715c16b0480f9",
   "metadata": {
    "ExecuteTime": {
     "end_time": "2025-09-23T11:31:12.444403Z",
     "start_time": "2025-09-23T11:31:12.369350Z"
    }
   },
   "outputs": [
    {
     "data": {
      "text/plain": [
       "<_duckdb.DuckDBPyConnection at 0x3113db3b0>"
      ]
     },
     "execution_count": 87,
     "metadata": {},
     "output_type": "execute_result"
    }
   ],
   "source": [
    "# some preparations\n",
    "\n",
    "first_session_df = con.execute(f\"\"\"\n",
    "\n",
    "select user_id, session_id, sum(value) total_watch_time from read_json_auto('/Users/fvyshkov/train/data/events.jsonl')\n",
    "where event_name = 'watch_time'\n",
    "and session_id in (\n",
    "SELECT session_id FROM read_json_auto('/Users/fvyshkov/train/data/events.jsonl')\n",
    "where event_name = 'first_login'\n",
    ")\n",
    "group by user_id, session_id\n",
    "\"\"\").fetch_df()\n",
    "\n",
    "con.register('first_sessions', first_session_df)"
   ]
  },
  {
   "cell_type": "code",
   "execution_count": 88,
   "id": "c2a639aa1f0b1e4e",
   "metadata": {
    "ExecuteTime": {
     "end_time": "2025-09-23T11:31:13.221092Z",
     "start_time": "2025-09-23T11:31:13.214512Z"
    }
   },
   "outputs": [
    {
     "name": "stdout",
     "output_type": "stream",
     "text": [
      "Q1: What % of new users reach at least 30 seconds of watch_time in their first session?\n",
      "94%\n"
     ]
    }
   ],
   "source": [
    "# Q1: What % of new users reach at least 30 seconds of watch_time in their first session?\n",
    "\n",
    "ratio_df = con.execute(\"\"\"\n",
    "\n",
    "select sum(total_watch_time)/(select sum(total_watch_time) from first_sessions) as percent\n",
    "from first_sessions where total_watch_time >= 30\n",
    "\n",
    "\"\"\").fetch_df()\n",
    "\n",
    "print(\"Q1: What % of new users reach at least 30 seconds of watch_time in their first session?\")\n",
    "PERSENT_MORE_30_FIRST = ratio_df['percent'][0]\n",
    "print(f\"{round(PERSENT_MORE_30_FIRST*100)}%\")"
   ]
  },
  {
   "cell_type": "code",
   "execution_count": 92,
   "id": "87106ea8420935c2",
   "metadata": {
    "ExecuteTime": {
     "end_time": "2025-09-23T11:37:04.059153Z",
     "start_time": "2025-09-23T11:37:04.031891Z"
    }
   },
   "outputs": [
    {
     "name": "stdout",
     "output_type": "stream",
     "text": [
      "Which video genres drive the highest 2nd-session retention within 3 days? Starting from top genres\n"
     ]
    },
    {
     "data": {
      "text/plain": [
       "0         horror\n",
       "1         sci-fi\n",
       "2         action\n",
       "3          drama\n",
       "4        romance\n",
       "5         comedy\n",
       "6    documentary\n",
       "7        fantasy\n",
       "Name: genre, dtype: object"
      ]
     },
     "execution_count": 92,
     "metadata": {},
     "output_type": "execute_result"
    }
   ],
   "source": [
    "# Q2: “Which video genres drive the highest 2nd-session retention within 3 days?”\n",
    "retention_3d_df = con.execute(f\"\"\"\n",
    "\n",
    "with first_session_start as (\n",
    "  select e.user_id, fs.session_id, min(cast(e.timestamp as timestamp)) as first_start_ts\n",
    "  from events e\n",
    "  join first_sessions fs on fs.session_id = e.session_id\n",
    "  where e.event_name = 'session_start'\n",
    "  group by e.user_id, fs.session_id\n",
    "),\n",
    "returned_within_3d as (\n",
    "  select fss.user_id,\n",
    "         case when exists (\n",
    "           select 1 from events e2\n",
    "           where e2.event_name = 'session_start'\n",
    "             and e2.user_id = fss.user_id\n",
    "             and e2.session_id <> fss.session_id\n",
    "             and cast(e2.timestamp as timestamp) > fss.first_start_ts\n",
    "             and cast(e2.timestamp as timestamp) <= fss.first_start_ts + interval 3 day\n",
    "         ) then 1 else 0 end as returned_3d\n",
    "  from first_session_start fss\n",
    "),\n",
    "first_session_watch_by_genre as (\n",
    "  select e.user_id, e.session_id, v.genre, sum(e.value) as watch_time_genre\n",
    "  from events e\n",
    "  join first_sessions fs on fs.session_id = e.session_id\n",
    "  join videos v on v.video_id = e.video_id\n",
    "  where e.event_name = 'watch_time'\n",
    "  group by e.user_id, e.session_id, v.genre\n",
    "),\n",
    "eligible as (\n",
    "  -- threshold for gwenre - 30 sec\n",
    "  select * from first_session_watch_by_genre where watch_time_genre >= 30\n",
    ")\n",
    "select\n",
    "  genre,\n",
    "  sum(watch_time_genre) as first_session_watch_time,\n",
    "  count(distinct case when r.returned_3d = 1 then e.user_id end) as returned_users_3d,\n",
    "  count(distinct e.user_id) as total_users,\n",
    "  count(distinct case when r.returned_3d = 1 then e.user_id end)::decimal / nullif(count(distinct e.user_id), 0) as retention_3d\n",
    "from eligible e,  returned_within_3d r\n",
    " where r.user_id = e.user_id\n",
    "group by genre\n",
    "order by retention_3d desc\n",
    "\n",
    "\"\"\").fetch_df()\n",
    "\n",
    "print(\"Which video genres drive the highest 2nd-session retention within 3 days? Starting from top genres\")\n",
    "retention_3d_df['genre']"
   ]
  },
  {
   "cell_type": "code",
   "execution_count": null,
   "id": "1fd8e692761a683e",
   "metadata": {
    "ExecuteTime": {
     "end_time": "2025-09-23T11:31:15.187544Z",
     "start_time": "2025-09-23T11:31:15.185667Z"
    }
   },
   "outputs": [],
   "source": []
  },
  {
   "cell_type": "code",
   "execution_count": 91,
   "id": "faa4e363268c70ca",
   "metadata": {
    "ExecuteTime": {
     "end_time": "2025-09-23T11:36:52.165280Z",
     "start_time": "2025-09-23T11:36:52.148650Z"
    }
   },
   "outputs": [
    {
     "name": "stdout",
     "output_type": "stream",
     "text": [
      "Q3: Is there a particular device_os or app_version where drop-off is abnormally high?\n"
     ]
    },
    {
     "data": {
      "text/html": [
       "<div>\n",
       "<style scoped>\n",
       "    .dataframe tbody tr th:only-of-type {\n",
       "        vertical-align: middle;\n",
       "    }\n",
       "\n",
       "    .dataframe tbody tr th {\n",
       "        vertical-align: top;\n",
       "    }\n",
       "\n",
       "    .dataframe thead th {\n",
       "        text-align: right;\n",
       "    }\n",
       "</style>\n",
       "<table border=\"1\" class=\"dataframe\">\n",
       "  <thead>\n",
       "    <tr style=\"text-align: right;\">\n",
       "      <th></th>\n",
       "      <th>device_os</th>\n",
       "      <th>app_version</th>\n",
       "      <th>dropoff_rate_pct</th>\n",
       "    </tr>\n",
       "  </thead>\n",
       "  <tbody>\n",
       "    <tr>\n",
       "      <th>0</th>\n",
       "      <td>macOS</td>\n",
       "      <td>1.0.0</td>\n",
       "      <td>16.67</td>\n",
       "    </tr>\n",
       "    <tr>\n",
       "      <th>1</th>\n",
       "      <td>iOS</td>\n",
       "      <td>2.0.0</td>\n",
       "      <td>15.38</td>\n",
       "    </tr>\n",
       "    <tr>\n",
       "      <th>2</th>\n",
       "      <td>macOS</td>\n",
       "      <td>1.2.0</td>\n",
       "      <td>14.29</td>\n",
       "    </tr>\n",
       "    <tr>\n",
       "      <th>3</th>\n",
       "      <td>Android</td>\n",
       "      <td>2.1.0</td>\n",
       "      <td>13.33</td>\n",
       "    </tr>\n",
       "    <tr>\n",
       "      <th>4</th>\n",
       "      <td>iOS</td>\n",
       "      <td>1.2.0</td>\n",
       "      <td>13.33</td>\n",
       "    </tr>\n",
       "    <tr>\n",
       "      <th>5</th>\n",
       "      <td>Android</td>\n",
       "      <td>1.1.0</td>\n",
       "      <td>12.50</td>\n",
       "    </tr>\n",
       "    <tr>\n",
       "      <th>6</th>\n",
       "      <td>macOS</td>\n",
       "      <td>1.1.0</td>\n",
       "      <td>12.50</td>\n",
       "    </tr>\n",
       "    <tr>\n",
       "      <th>7</th>\n",
       "      <td>Android</td>\n",
       "      <td>2.0.0</td>\n",
       "      <td>12.50</td>\n",
       "    </tr>\n",
       "    <tr>\n",
       "      <th>8</th>\n",
       "      <td>Android</td>\n",
       "      <td>1.2.0</td>\n",
       "      <td>12.50</td>\n",
       "    </tr>\n",
       "    <tr>\n",
       "      <th>9</th>\n",
       "      <td>Windows</td>\n",
       "      <td>1.1.0</td>\n",
       "      <td>11.11</td>\n",
       "    </tr>\n",
       "    <tr>\n",
       "      <th>10</th>\n",
       "      <td>iOS</td>\n",
       "      <td>1.1.0</td>\n",
       "      <td>7.69</td>\n",
       "    </tr>\n",
       "    <tr>\n",
       "      <th>11</th>\n",
       "      <td>macOS</td>\n",
       "      <td>2.0.0</td>\n",
       "      <td>6.67</td>\n",
       "    </tr>\n",
       "    <tr>\n",
       "      <th>12</th>\n",
       "      <td>iOS</td>\n",
       "      <td>1.0.0</td>\n",
       "      <td>6.67</td>\n",
       "    </tr>\n",
       "    <tr>\n",
       "      <th>13</th>\n",
       "      <td>macOS</td>\n",
       "      <td>2.1.0</td>\n",
       "      <td>5.26</td>\n",
       "    </tr>\n",
       "    <tr>\n",
       "      <th>14</th>\n",
       "      <td>Windows</td>\n",
       "      <td>2.1.0</td>\n",
       "      <td>5.00</td>\n",
       "    </tr>\n",
       "    <tr>\n",
       "      <th>15</th>\n",
       "      <td>Windows</td>\n",
       "      <td>2.0.0</td>\n",
       "      <td>0.00</td>\n",
       "    </tr>\n",
       "    <tr>\n",
       "      <th>16</th>\n",
       "      <td>Android</td>\n",
       "      <td>1.0.0</td>\n",
       "      <td>0.00</td>\n",
       "    </tr>\n",
       "    <tr>\n",
       "      <th>17</th>\n",
       "      <td>Windows</td>\n",
       "      <td>1.0.0</td>\n",
       "      <td>0.00</td>\n",
       "    </tr>\n",
       "    <tr>\n",
       "      <th>18</th>\n",
       "      <td>Windows</td>\n",
       "      <td>1.2.0</td>\n",
       "      <td>0.00</td>\n",
       "    </tr>\n",
       "    <tr>\n",
       "      <th>19</th>\n",
       "      <td>iOS</td>\n",
       "      <td>2.1.0</td>\n",
       "      <td>0.00</td>\n",
       "    </tr>\n",
       "  </tbody>\n",
       "</table>\n",
       "</div>"
      ],
      "text/plain": [
       "   device_os app_version  dropoff_rate_pct\n",
       "0      macOS       1.0.0             16.67\n",
       "1        iOS       2.0.0             15.38\n",
       "2      macOS       1.2.0             14.29\n",
       "3    Android       2.1.0             13.33\n",
       "4        iOS       1.2.0             13.33\n",
       "5    Android       1.1.0             12.50\n",
       "6      macOS       1.1.0             12.50\n",
       "7    Android       2.0.0             12.50\n",
       "8    Android       1.2.0             12.50\n",
       "9    Windows       1.1.0             11.11\n",
       "10       iOS       1.1.0              7.69\n",
       "11     macOS       2.0.0              6.67\n",
       "12       iOS       1.0.0              6.67\n",
       "13     macOS       2.1.0              5.26\n",
       "14   Windows       2.1.0              5.00\n",
       "15   Windows       2.0.0              0.00\n",
       "16   Android       1.0.0              0.00\n",
       "17   Windows       1.0.0              0.00\n",
       "18   Windows       1.2.0              0.00\n",
       "19       iOS       2.1.0              0.00"
      ]
     },
     "execution_count": 91,
     "metadata": {},
     "output_type": "execute_result"
    }
   ],
   "source": [
    "# Q3: “Is there a particular device_os or app_version where drop-off is abnormally high?”\n",
    "\n",
    "drop_off_df = con.execute(f\"\"\"\n",
    "\n",
    "with session_watch as (\n",
    "    select\n",
    "        e.session_id,\n",
    "        e.device_os,\n",
    "        e.app_version,\n",
    "        sum(case when e.event_name = 'watch_time' then coalesce(e.value, 0) else 0 end) as total_watch_time\n",
    "    from events e,  first_sessions fs\n",
    "     where fs.session_id = e.session_id\n",
    "    group by e.session_id, e.device_os, e.app_version\n",
    "),\n",
    "session_flags as (\n",
    "    select\n",
    "        session_id,\n",
    "        device_os,\n",
    "        app_version,\n",
    "        case when total_watch_time < 10 then 1 else 0 end as is_dropoff\n",
    "    from session_watch\n",
    ")\n",
    "select\n",
    "    device_os,\n",
    "    app_version,\n",
    "    count(*) as total_first_sessions,\n",
    "    sum(is_dropoff) as dropoff_sessions,\n",
    "    round(100.0 * sum(is_dropoff) / count(*), 2) as dropoff_rate_pct\n",
    "from session_flags\n",
    "group by device_os, app_version\n",
    "order by dropoff_rate_pct desc\n",
    "\n",
    "\n",
    "\n",
    "\"\"\").fetch_df()\n",
    "\n",
    "print(\"Q3: Is there a particular device_os or app_version where drop-off is abnormally high?\")\n",
    "drop_off_df[['device_os', 'app_version', 'dropoff_rate_pct']]"
   ]
  },
  {
   "cell_type": "code",
   "execution_count": null,
   "id": "402302b71c128a25",
   "metadata": {},
   "outputs": [],
   "source": []
  }
 ],
 "metadata": {
  "kernelspec": {
   "display_name": "Python 3",
   "language": "python",
   "name": "python3"
  },
  "language_info": {
   "codemirror_mode": {
    "name": "ipython",
    "version": 2
   },
   "file_extension": ".py",
   "mimetype": "text/x-python",
   "name": "python",
   "nbconvert_exporter": "python",
   "pygments_lexer": "ipython2",
   "version": "2.7.6"
  }
 },
 "nbformat": 4,
 "nbformat_minor": 5
}
