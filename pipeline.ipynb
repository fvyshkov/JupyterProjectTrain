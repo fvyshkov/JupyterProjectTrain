{
 "cells": [
  {
   "cell_type": "markdown",
   "id": "e28d1ea8",
   "metadata": {},
   "source": [
    "## DuckDB setup and SQL templates\n",
    "\n",
    "This section sets up DuckDB to query `events.jsonl` alongside CSV dimensions and provides Q1/Q2 query templates.\n"
   ]
  },
  {
   "cell_type": "code",
   "execution_count": 1,
   "id": "initial_id",
   "metadata": {
    "ExecuteTime": {
     "end_time": "2025-09-23T12:45:52.805294Z",
     "start_time": "2025-09-23T12:45:52.800542Z"
    },
    "collapsed": true
   },
   "outputs": [],
   "source": [
    "import duckdb"
   ]
  },
  {
   "cell_type": "code",
   "execution_count": 2,
   "id": "66695a811687002d",
   "metadata": {
    "ExecuteTime": {
     "end_time": "2025-09-23T12:45:54.589911Z",
     "start_time": "2025-09-23T12:45:54.486419Z"
    }
   },
   "outputs": [
    {
     "data": {
      "text/plain": [
       "<_duckdb.DuckDBPyConnection at 0x107bebcf0>"
      ]
     },
     "execution_count": 2,
     "metadata": {},
     "output_type": "execute_result"
    }
   ],
   "source": [
    "con = duckdb.connect()\n",
    "users_df = con.sql(\"\"\"select * from read_csv_auto('data/users.csv')\"\"\").to_df()\n",
    "videos_df = con.sql(\"\"\"select * from read_csv_auto('data/videos.csv')\"\"\").to_df()\n",
    "devices_df = con.sql(\"\"\"select * from read_csv_auto('data/devices.csv')\"\"\").to_df()\n",
    "events_df = con.sql(\"\"\"select * from read_json_auto('data/events.jsonl')\"\"\").to_df()\n",
    "con.register('users', users_df)\n",
    "con.register('videos', videos_df)\n",
    "con.register('devices', devices_df)\n",
    "con.register('events', events_df)"
   ]
  },
  {
   "cell_type": "code",
   "execution_count": 4,
   "id": "8d1715c16b0480f9",
   "metadata": {
    "ExecuteTime": {
     "end_time": "2025-09-23T12:45:55.858381Z",
     "start_time": "2025-09-23T12:45:55.839632Z"
    }
   },
   "outputs": [
    {
     "data": {
      "text/plain": [
       "<_duckdb.DuckDBPyConnection at 0x107bebcf0>"
      ]
     },
     "execution_count": 4,
     "metadata": {},
     "output_type": "execute_result"
    }
   ],
   "source": [
    "# some preparations\n",
    "\n",
    "first_session_df = con.execute(f\"\"\"\n",
    "\n",
    "select user_id, session_id, sum(value) total_watch_time from events\n",
    "where event_name = 'watch_time'\n",
    "and session_id in (\n",
    "SELECT session_id FROM events\n",
    "where event_name = 'first_login'\n",
    ")\n",
    "group by user_id, session_id\n",
    "\"\"\").fetch_df()\n",
    "\n",
    "con.register('first_sessions', first_session_df)"
   ]
  },
  {
   "cell_type": "code",
   "execution_count": 5,
   "id": "c2a639aa1f0b1e4e",
   "metadata": {
    "ExecuteTime": {
     "end_time": "2025-09-23T12:46:25.036622Z",
     "start_time": "2025-09-23T12:46:25.031717Z"
    }
   },
   "outputs": [
    {
     "name": "stdout",
     "output_type": "stream",
     "text": [
      "Q1: What % of new users reach at least 30 seconds of watch_time in their first session?\n",
      "94%\n"
     ]
    }
   ],
   "source": [
    "# Q1: What % of new users reach at least 30 seconds of watch_time in their first session?\n",
    "\n",
    "ratio_df = con.execute(\"\"\"\n",
    "\n",
    "select sum(total_watch_time)/(select sum(total_watch_time) from first_sessions) as percent\n",
    "from first_sessions where total_watch_time >= 30\n",
    "\n",
    "\"\"\").fetch_df()\n",
    "\n",
    "print(\"Q1: What % of new users reach at least 30 seconds of watch_time in their first session?\")\n",
    "PERSENT_MORE_30_FIRST = ratio_df['percent'][0]\n",
    "print(f\"{round(PERSENT_MORE_30_FIRST*100)}%\")"
   ]
  },
  {
   "cell_type": "code",
   "execution_count": 11,
   "id": "87106ea8420935c2",
   "metadata": {
    "ExecuteTime": {
     "end_time": "2025-09-23T12:46:35.357622Z",
     "start_time": "2025-09-23T12:46:35.334769Z"
    }
   },
   "outputs": [
    {
     "name": "stdout",
     "output_type": "stream",
     "text": [
      "Which video genres drive the highest 2nd-session retention within 3 days? Starting from top genres\n"
     ]
    },
    {
     "data": {
      "text/html": [
       "<div>\n",
       "<style scoped>\n",
       "    .dataframe tbody tr th:only-of-type {\n",
       "        vertical-align: middle;\n",
       "    }\n",
       "\n",
       "    .dataframe tbody tr th {\n",
       "        vertical-align: top;\n",
       "    }\n",
       "\n",
       "    .dataframe thead th {\n",
       "        text-align: right;\n",
       "    }\n",
       "</style>\n",
       "<table border=\"1\" class=\"dataframe\">\n",
       "  <thead>\n",
       "    <tr style=\"text-align: right;\">\n",
       "      <th></th>\n",
       "      <th>genre</th>\n",
       "    </tr>\n",
       "  </thead>\n",
       "  <tbody>\n",
       "    <tr>\n",
       "      <th>0</th>\n",
       "      <td>horror</td>\n",
       "    </tr>\n",
       "    <tr>\n",
       "      <th>1</th>\n",
       "      <td>sci-fi</td>\n",
       "    </tr>\n",
       "    <tr>\n",
       "      <th>2</th>\n",
       "      <td>action</td>\n",
       "    </tr>\n",
       "    <tr>\n",
       "      <th>3</th>\n",
       "      <td>drama</td>\n",
       "    </tr>\n",
       "    <tr>\n",
       "      <th>4</th>\n",
       "      <td>romance</td>\n",
       "    </tr>\n",
       "    <tr>\n",
       "      <th>5</th>\n",
       "      <td>comedy</td>\n",
       "    </tr>\n",
       "    <tr>\n",
       "      <th>6</th>\n",
       "      <td>documentary</td>\n",
       "    </tr>\n",
       "    <tr>\n",
       "      <th>7</th>\n",
       "      <td>fantasy</td>\n",
       "    </tr>\n",
       "  </tbody>\n",
       "</table>\n",
       "</div>"
      ],
      "text/plain": [
       "         genre\n",
       "0       horror\n",
       "1       sci-fi\n",
       "2       action\n",
       "3        drama\n",
       "4      romance\n",
       "5       comedy\n",
       "6  documentary\n",
       "7      fantasy"
      ]
     },
     "execution_count": 11,
     "metadata": {},
     "output_type": "execute_result"
    }
   ],
   "source": [
    "# Q2: “Which video genres drive the highest 2nd-session retention within 3 days?”\n",
    "retention_3d_df = con.execute(f\"\"\"\n",
    "\n",
    "with first_session_start as (\n",
    "  select e.user_id, fs.session_id, min(cast(e.timestamp as timestamp)) as first_start_ts\n",
    "  from events e\n",
    "  join first_sessions fs on fs.session_id = e.session_id\n",
    "  where e.event_name = 'session_start'\n",
    "  group by e.user_id, fs.session_id\n",
    "),\n",
    "returned_within_3d as (\n",
    "  select fss.user_id,\n",
    "         case when exists (\n",
    "           select 1 from events e2\n",
    "           where e2.event_name = 'session_start'\n",
    "             and e2.user_id = fss.user_id\n",
    "             and e2.session_id <> fss.session_id\n",
    "             and cast(e2.timestamp as timestamp) > fss.first_start_ts\n",
    "             and cast(e2.timestamp as timestamp) <= fss.first_start_ts + interval 3 day\n",
    "         ) then 1 else 0 end as returned_3d\n",
    "  from first_session_start fss\n",
    "),\n",
    "first_session_watch_by_genre as (\n",
    "  select e.user_id, e.session_id, v.genre, sum(e.value) as watch_time_genre\n",
    "  from events e\n",
    "  join first_sessions fs on fs.session_id = e.session_id\n",
    "  join videos v on v.video_id = e.video_id\n",
    "  where e.event_name = 'watch_time'\n",
    "  group by e.user_id, e.session_id, v.genre\n",
    "),\n",
    "eligible as (\n",
    "  -- threshold for gwenre - 30 sec\n",
    "  select * from first_session_watch_by_genre where watch_time_genre >= 30\n",
    ")\n",
    "select\n",
    "  genre,\n",
    "  sum(watch_time_genre) as first_session_watch_time,\n",
    "  count(distinct case when r.returned_3d = 1 then e.user_id end) as returned_users_3d,\n",
    "  count(distinct e.user_id) as total_users,\n",
    "  count(distinct case when r.returned_3d = 1 then e.user_id end)::decimal / nullif(count(distinct e.user_id), 0) as retention_3d\n",
    "from eligible e,  returned_within_3d r\n",
    " where r.user_id = e.user_id\n",
    "group by genre\n",
    "order by retention_3d desc\n",
    "\n",
    "\"\"\").fetch_df()\n",
    "print(\"Which video genres drive the highest 2nd-session retention within 3 days? Starting from top genres\")\n",
    "retention_3d_df[['genre']]"
   ]
  },
  {
   "cell_type": "code",
   "execution_count": 12,
   "id": "faa4e363268c70ca",
   "metadata": {
    "ExecuteTime": {
     "end_time": "2025-09-23T12:46:45.055171Z",
     "start_time": "2025-09-23T12:46:45.038872Z"
    }
   },
   "outputs": [
    {
     "name": "stdout",
     "output_type": "stream",
     "text": [
      "Q3: Is there a particular device_os or app_version where drop-off is abnormally high?\n"
     ]
    },
    {
     "data": {
      "text/html": [
       "<div>\n",
       "<style scoped>\n",
       "    .dataframe tbody tr th:only-of-type {\n",
       "        vertical-align: middle;\n",
       "    }\n",
       "\n",
       "    .dataframe tbody tr th {\n",
       "        vertical-align: top;\n",
       "    }\n",
       "\n",
       "    .dataframe thead th {\n",
       "        text-align: right;\n",
       "    }\n",
       "</style>\n",
       "<table border=\"1\" class=\"dataframe\">\n",
       "  <thead>\n",
       "    <tr style=\"text-align: right;\">\n",
       "      <th></th>\n",
       "      <th>device_os</th>\n",
       "      <th>app_version</th>\n",
       "      <th>dropoff_rate_pct</th>\n",
       "    </tr>\n",
       "  </thead>\n",
       "  <tbody>\n",
       "    <tr>\n",
       "      <th>0</th>\n",
       "      <td>macOS</td>\n",
       "      <td>1.0.0</td>\n",
       "      <td>16.67</td>\n",
       "    </tr>\n",
       "    <tr>\n",
       "      <th>1</th>\n",
       "      <td>iOS</td>\n",
       "      <td>2.0.0</td>\n",
       "      <td>15.38</td>\n",
       "    </tr>\n",
       "    <tr>\n",
       "      <th>2</th>\n",
       "      <td>macOS</td>\n",
       "      <td>1.2.0</td>\n",
       "      <td>14.29</td>\n",
       "    </tr>\n",
       "    <tr>\n",
       "      <th>3</th>\n",
       "      <td>iOS</td>\n",
       "      <td>1.2.0</td>\n",
       "      <td>13.33</td>\n",
       "    </tr>\n",
       "    <tr>\n",
       "      <th>4</th>\n",
       "      <td>Android</td>\n",
       "      <td>2.1.0</td>\n",
       "      <td>13.33</td>\n",
       "    </tr>\n",
       "    <tr>\n",
       "      <th>5</th>\n",
       "      <td>macOS</td>\n",
       "      <td>1.1.0</td>\n",
       "      <td>12.50</td>\n",
       "    </tr>\n",
       "    <tr>\n",
       "      <th>6</th>\n",
       "      <td>Android</td>\n",
       "      <td>2.0.0</td>\n",
       "      <td>12.50</td>\n",
       "    </tr>\n",
       "    <tr>\n",
       "      <th>7</th>\n",
       "      <td>Android</td>\n",
       "      <td>1.1.0</td>\n",
       "      <td>12.50</td>\n",
       "    </tr>\n",
       "    <tr>\n",
       "      <th>8</th>\n",
       "      <td>Android</td>\n",
       "      <td>1.2.0</td>\n",
       "      <td>12.50</td>\n",
       "    </tr>\n",
       "    <tr>\n",
       "      <th>9</th>\n",
       "      <td>Windows</td>\n",
       "      <td>1.1.0</td>\n",
       "      <td>11.11</td>\n",
       "    </tr>\n",
       "    <tr>\n",
       "      <th>10</th>\n",
       "      <td>iOS</td>\n",
       "      <td>1.1.0</td>\n",
       "      <td>7.69</td>\n",
       "    </tr>\n",
       "    <tr>\n",
       "      <th>11</th>\n",
       "      <td>macOS</td>\n",
       "      <td>2.0.0</td>\n",
       "      <td>6.67</td>\n",
       "    </tr>\n",
       "    <tr>\n",
       "      <th>12</th>\n",
       "      <td>iOS</td>\n",
       "      <td>1.0.0</td>\n",
       "      <td>6.67</td>\n",
       "    </tr>\n",
       "    <tr>\n",
       "      <th>13</th>\n",
       "      <td>macOS</td>\n",
       "      <td>2.1.0</td>\n",
       "      <td>5.26</td>\n",
       "    </tr>\n",
       "    <tr>\n",
       "      <th>14</th>\n",
       "      <td>Windows</td>\n",
       "      <td>2.1.0</td>\n",
       "      <td>5.00</td>\n",
       "    </tr>\n",
       "    <tr>\n",
       "      <th>15</th>\n",
       "      <td>Windows</td>\n",
       "      <td>2.0.0</td>\n",
       "      <td>0.00</td>\n",
       "    </tr>\n",
       "    <tr>\n",
       "      <th>16</th>\n",
       "      <td>Windows</td>\n",
       "      <td>1.0.0</td>\n",
       "      <td>0.00</td>\n",
       "    </tr>\n",
       "    <tr>\n",
       "      <th>17</th>\n",
       "      <td>Android</td>\n",
       "      <td>1.0.0</td>\n",
       "      <td>0.00</td>\n",
       "    </tr>\n",
       "    <tr>\n",
       "      <th>18</th>\n",
       "      <td>Windows</td>\n",
       "      <td>1.2.0</td>\n",
       "      <td>0.00</td>\n",
       "    </tr>\n",
       "    <tr>\n",
       "      <th>19</th>\n",
       "      <td>iOS</td>\n",
       "      <td>2.1.0</td>\n",
       "      <td>0.00</td>\n",
       "    </tr>\n",
       "  </tbody>\n",
       "</table>\n",
       "</div>"
      ],
      "text/plain": [
       "   device_os app_version  dropoff_rate_pct\n",
       "0      macOS       1.0.0             16.67\n",
       "1        iOS       2.0.0             15.38\n",
       "2      macOS       1.2.0             14.29\n",
       "3        iOS       1.2.0             13.33\n",
       "4    Android       2.1.0             13.33\n",
       "5      macOS       1.1.0             12.50\n",
       "6    Android       2.0.0             12.50\n",
       "7    Android       1.1.0             12.50\n",
       "8    Android       1.2.0             12.50\n",
       "9    Windows       1.1.0             11.11\n",
       "10       iOS       1.1.0              7.69\n",
       "11     macOS       2.0.0              6.67\n",
       "12       iOS       1.0.0              6.67\n",
       "13     macOS       2.1.0              5.26\n",
       "14   Windows       2.1.0              5.00\n",
       "15   Windows       2.0.0              0.00\n",
       "16   Windows       1.0.0              0.00\n",
       "17   Android       1.0.0              0.00\n",
       "18   Windows       1.2.0              0.00\n",
       "19       iOS       2.1.0              0.00"
      ]
     },
     "execution_count": 12,
     "metadata": {},
     "output_type": "execute_result"
    }
   ],
   "source": [
    "# Q3: “Is there a particular device_os or app_version where drop-off is abnormally high?”\n",
    "\n",
    "drop_off_df = con.execute(f\"\"\"\n",
    "\n",
    "with session_watch as (\n",
    "    select\n",
    "        e.session_id,\n",
    "        e.device_os,\n",
    "        e.app_version,\n",
    "        sum(case when e.event_name = 'watch_time' then coalesce(e.value, 0) else 0 end) as total_watch_time\n",
    "    from events e,  first_sessions fs\n",
    "     where fs.session_id = e.session_id\n",
    "    group by e.session_id, e.device_os, e.app_version\n",
    "),\n",
    "session_flags as (\n",
    "    select\n",
    "        session_id,\n",
    "        device_os,\n",
    "        app_version,\n",
    "        case when total_watch_time < 10 then 1 else 0 end as is_dropoff\n",
    "    from session_watch\n",
    ")\n",
    "select\n",
    "    device_os,\n",
    "    app_version,\n",
    "    count(*) as total_first_sessions,\n",
    "    sum(is_dropoff) as dropoff_sessions,\n",
    "    round(100.0 * sum(is_dropoff) / count(*), 2) as dropoff_rate_pct\n",
    "from session_flags\n",
    "group by device_os, app_version\n",
    "order by dropoff_rate_pct desc\n",
    "\n",
    "\n",
    "\n",
    "\"\"\").fetch_df()\n",
    "\n",
    "print(\"Q3: Is there a particular device_os or app_version where drop-off is abnormally high?\")\n",
    "drop_off_df[['device_os', 'app_version', 'dropoff_rate_pct']]"
   ]
  },
  {
   "cell_type": "code",
   "execution_count": null,
   "id": "402302b71c128a25",
   "metadata": {
    "ExecuteTime": {
     "end_time": "2025-09-23T12:46:50.919787Z",
     "start_time": "2025-09-23T12:46:50.908247Z"
    }
   },
   "outputs": [
    {
     "data": {
      "text/html": [
       "<p>Saved report to <a href='file:///Users/fvyshkov/PycharmProjects/JupyterProjectTrain/report.html' target='_blank'>/Users/fvyshkov/PycharmProjects/JupyterProjectTrain/report.html</a></p>"
      ],
      "text/plain": [
       "<IPython.core.display.HTML object>"
      ]
     },
     "metadata": {},
     "output_type": "display_data"
    }
   ],
   "source": [
    "# Final HTML report generation\n",
    "from pathlib import Path\n",
    "from datetime import datetime\n",
    "from IPython.display import HTML, display\n",
    "import pandas as pd\n",
    "\n",
    "# Q1 percent\n",
    "try:\n",
    "    q1_percent = round(float(PERSENT_MORE_30_FIRST) * 100, 2)\n",
    "except NameError:\n",
    "    q1_percent = round(float(ratio_df['percent'].iloc[0]) * 100, 2)\n",
    "\n",
    "# Q2 table (genres by 3d retention)\n",
    "ret_df = retention_3d_df.copy()\n",
    "if 'retention_3d' in ret_df.columns:\n",
    "    ret_df['retention_3d_pct'] = (ret_df['retention_3d'] * 100).round(2)\n",
    "    # Order columns if present\n",
    "    cols = [c for c in ['genre', 'retention_3d_pct', 'returned_users_3d', 'total_users', 'first_session_watch_time'] if c in ret_df.columns]\n",
    "    ret_df = ret_df[cols]\n",
    "ret_html = ret_df.to_html(index=False, float_format=lambda x: f\"{x:.2f}\")\n",
    "\n",
    "# Q3 table (drop-off by device/app)\n",
    "drop_df = drop_off_df.copy()\n",
    "if 'dropoff_rate_pct' in drop_df.columns:\n",
    "    drop_df['dropoff_rate_pct'] = drop_df['dropoff_rate_pct'].round(2)\n",
    "cols3 = [c for c in ['device_os', 'app_version', 'dropoff_rate_pct', 'dropoff_sessions', 'total_first_sessions'] if c in drop_df.columns]\n",
    "drop_df = drop_df[cols3]\n",
    "drop_html = drop_df.to_html(index=False, float_format=lambda x: f\"{x:.2f}\")\n",
    "\n",
    "# Build HTML\n",
    "now_ts = datetime.now().strftime('%Y-%m-%d %H:%M:%S')\n",
    "\n",
    "html = f\"\"\"\n",
    "<!doctype html>\n",
    "<html>\n",
    "<head>\n",
    "<title>Streaming Analytics Report</title>\n",
    "</head>\n",
    "<body>\n",
    "  <h1>Streaming Analytics Report</h1>\n",
    "  <p>Generated: {now_ts}</p>\n",
    "\n",
    "  <div class=\\\"card\\\" style=\\\"margin-top:16px\\\"> \n",
    "    <h2>Q1. % of new users with ≥30s watch time in first session</h2>\n",
    "    <div class=\\\"kpi\\\">{q1_percent:.2f}%</div>\n",
    "  </div>\n",
    "\n",
    "  <div class=\\\"card\\\" style=\\\"margin-top:16px\\\"> \n",
    "    <h2>Q2. Genres with highest 2nd-session retention within 3 days</h2>\n",
    "    {ret_html}\n",
    "  </div>\n",
    "\n",
    "  <div class=\\\"card\\\" style=\\\"margin-top:16px\\\"> \n",
    "    <h2>Q3. Device OS / App versions with highest drop-off</h2>\n",
    "    {drop_html}\n",
    "  </div>\n",
    "</body>\n",
    "</html>\n",
    "\"\"\"\n",
    "\n",
    "# Save and display link\n",
    "REPORT_PATH = (Path.cwd() / 'report.html').resolve()\n",
    "REPORT_PATH.write_text(html, encoding='utf-8')\n",
    "link = REPORT_PATH.as_uri()\n",
    "display(HTML(f\"<p>Saved report to <a href='{link}' target='_blank'>{REPORT_PATH}</a></p>\"))\n"
   ]
  },
  {
   "cell_type": "code",
   "execution_count": null,
   "id": "84e8c8e5",
   "metadata": {},
   "outputs": [],
   "source": []
  }
 ],
 "metadata": {
  "kernelspec": {
   "display_name": "conda",
   "language": "python",
   "name": "python3"
  },
  "language_info": {
   "codemirror_mode": {
    "name": "ipython",
    "version": 3
   },
   "file_extension": ".py",
   "mimetype": "text/x-python",
   "name": "python",
   "nbconvert_exporter": "python",
   "pygments_lexer": "ipython3",
   "version": "3.9.7"
  }
 },
 "nbformat": 4,
 "nbformat_minor": 5
}
